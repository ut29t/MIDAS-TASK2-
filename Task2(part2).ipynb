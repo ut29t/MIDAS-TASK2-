{
  "nbformat": 4,
  "nbformat_minor": 0,
  "metadata": {
    "colab": {
      "name": "Task2(part2)",
      "provenance": []
    },
    "kernelspec": {
      "name": "python3",
      "display_name": "Python 3"
    },
    "language_info": {
      "name": "python"
    },
    "accelerator": "GPU"
  },
  "cells": [
    {
      "cell_type": "markdown",
      "metadata": {
        "id": "1QsUB8EjsqxC"
      },
      "source": [
        "In this section we just imported import libraries, which are necessary for the building of the model.These libraries ,ainly include numpy, matplotlib and frameworks like keras and tensorflow."
      ]
    },
    {
      "cell_type": "code",
      "metadata": {
        "id": "-IlppMBfIhGj"
      },
      "source": [
        "import numpy as np\n",
        "import keras\n",
        "import matplotlib.pyplot as plt\n",
        "import tensorflow as tf\n",
        "from tensorflow.keras import layers\n",
        "from keras.preprocessing.image import ImageDataGenerator"
      ],
      "execution_count": null,
      "outputs": []
    },
    {
      "cell_type": "markdown",
      "metadata": {
        "id": "9ODapBm3tKbZ"
      },
      "source": [
        "This section shows the dataset(containing images(0-9)) each having the dimension of(1200*900) being uploaded to the colab from the drive.\n",
        "\n",
        "Preprocessing of the dataset-ImageDataGenertaor is used for the preprocessing of the image dataset.It contains various parameters like resacling, rotation, fliping etc.\n",
        "The dimensions of the image were brought to(224,224) and then trained.\n",
        "It was seen that on reducing the size to great extent(32,32), the accuracy of the model was increasing, but there was a doubt of overfitting of the model, so preferred target size(224,224).\n",
        "\n"
      ]
    },
    {
      "cell_type": "code",
      "metadata": {
        "colab": {
          "base_uri": "https://localhost:8080/"
        },
        "id": "uHDr7epSIqmW",
        "outputId": "3619ef97-7276-4f5c-e4c8-cbb18d0e0fa1"
      },
      "source": [
        "from google.colab import drive\n",
        "drive.mount('/content/drive')\n",
        "\n",
        "train_data='/content/drive/MyDrive/MIDAS/0-9'\n",
        "\n",
        "\n",
        "train_gen=ImageDataGenerator(rescale=1./255, rotation_range=0.3, shear_range=0.3, zoom_range=0.3,\n",
        "                             horizontal_flip=True, vertical_flip=True)\n",
        "\n",
        "train_generator=train_gen.flow_from_directory(train_data,color_mode='grayscale',target_size=(224,224),\n",
        "                                              batch_size=16,class_mode='categorical',shuffle=True)"
      ],
      "execution_count": null,
      "outputs": [
        {
          "output_type": "stream",
          "text": [
            "Drive already mounted at /content/drive; to attempt to forcibly remount, call drive.mount(\"/content/drive\", force_remount=True).\n",
            "Found 400 images belonging to 10 classes.\n"
          ],
          "name": "stdout"
        }
      ]
    },
    {
      "cell_type": "markdown",
      "metadata": {
        "id": "TjW9X87UxYnP"
      },
      "source": [
        "This shows the architecture used for the training purpose, the summary of the model is displayed below\n",
        "Basically 3(convolutional nad max pooling) are used and activation function is (ReLU)"
      ]
    },
    {
      "cell_type": "code",
      "metadata": {
        "colab": {
          "base_uri": "https://localhost:8080/"
        },
        "id": "a1nA5ubTItdx",
        "outputId": "bab25c5d-8ac1-446f-b315-dab5446bd539"
      },
      "source": [
        "model = tf.keras.Sequential([\n",
        "  \n",
        "  layers.Conv2D(filters=32,padding=\"same\",kernel_size=3,activation='relu',input_shape=[224,224,1]),\n",
        "  layers.MaxPooling2D(pool_size=(2,2),strides=2),\n",
        "  layers.Conv2D(filters=32,padding=\"same\",kernel_size=3,activation='relu'),\n",
        "  layers.MaxPooling2D(pool_size=(2,2),strides=2),\n",
        "  layers.Conv2D(filters=64,padding=\"same\",kernel_size=3,activation='relu'),\n",
        "  layers.MaxPooling2D(pool_size=(2,2),strides=2),\n",
        "\n",
        "  layers.Flatten(),\n",
        "  layers.Dense(units=128, activation='relu'),\n",
        "  layers.Dense(units=10, activation='softmax'),\n",
        "  \n",
        "])\n",
        "model.summary()"
      ],
      "execution_count": null,
      "outputs": [
        {
          "output_type": "stream",
          "text": [
            "Model: \"sequential_2\"\n",
            "_________________________________________________________________\n",
            "Layer (type)                 Output Shape              Param #   \n",
            "=================================================================\n",
            "conv2d_6 (Conv2D)            (None, 224, 224, 32)      320       \n",
            "_________________________________________________________________\n",
            "max_pooling2d_6 (MaxPooling2 (None, 112, 112, 32)      0         \n",
            "_________________________________________________________________\n",
            "conv2d_7 (Conv2D)            (None, 112, 112, 32)      9248      \n",
            "_________________________________________________________________\n",
            "max_pooling2d_7 (MaxPooling2 (None, 56, 56, 32)        0         \n",
            "_________________________________________________________________\n",
            "conv2d_8 (Conv2D)            (None, 56, 56, 64)        18496     \n",
            "_________________________________________________________________\n",
            "max_pooling2d_8 (MaxPooling2 (None, 28, 28, 64)        0         \n",
            "_________________________________________________________________\n",
            "flatten_2 (Flatten)          (None, 50176)             0         \n",
            "_________________________________________________________________\n",
            "dense_4 (Dense)              (None, 128)               6422656   \n",
            "_________________________________________________________________\n",
            "dense_5 (Dense)              (None, 10)                1290      \n",
            "=================================================================\n",
            "Total params: 6,452,010\n",
            "Trainable params: 6,452,010\n",
            "Non-trainable params: 0\n",
            "_________________________________________________________________\n"
          ],
          "name": "stdout"
        }
      ]
    },
    {
      "cell_type": "code",
      "metadata": {
        "id": "qtydSHHwI4Qw"
      },
      "source": [
        "model.compile(optimizer='adam',\n",
        "              loss=tf.keras.losses.categorical_crossentropy,\n",
        "              metrics=['accuracy'])"
      ],
      "execution_count": null,
      "outputs": []
    },
    {
      "cell_type": "markdown",
      "metadata": {
        "id": "qM_XyfF1z2oq"
      },
      "source": [
        "It is seen that the loss below is decreasing and the accuracy of the model is increasing, if the number of the epochs are increased the accuracy would further increase."
      ]
    },
    {
      "cell_type": "code",
      "metadata": {
        "colab": {
          "base_uri": "https://localhost:8080/"
        },
        "id": "FQus8VHoI5h3",
        "outputId": "4beafb9c-a10d-4350-9652-d68d29b555ff"
      },
      "source": [
        "epochs=10\n",
        "history = model.fit(train_generator,epochs=epochs)"
      ],
      "execution_count": null,
      "outputs": [
        {
          "output_type": "stream",
          "text": [
            "Epoch 1/10\n",
            "25/25 [==============================] - 71s 3s/step - loss: 2.7917 - accuracy: 0.0680\n",
            "Epoch 2/10\n",
            "25/25 [==============================] - 7s 272ms/step - loss: 2.2776 - accuracy: 0.1445\n",
            "Epoch 3/10\n",
            "25/25 [==============================] - 7s 275ms/step - loss: 2.0919 - accuracy: 0.2360\n",
            "Epoch 4/10\n",
            "25/25 [==============================] - 7s 273ms/step - loss: 1.9588 - accuracy: 0.2812\n",
            "Epoch 5/10\n",
            "25/25 [==============================] - 7s 266ms/step - loss: 1.5567 - accuracy: 0.4878\n",
            "Epoch 6/10\n",
            "25/25 [==============================] - 7s 268ms/step - loss: 1.5289 - accuracy: 0.4846\n",
            "Epoch 7/10\n",
            "25/25 [==============================] - 7s 271ms/step - loss: 1.2722 - accuracy: 0.5681\n",
            "Epoch 8/10\n",
            "25/25 [==============================] - 7s 271ms/step - loss: 1.3635 - accuracy: 0.5526\n",
            "Epoch 9/10\n",
            "25/25 [==============================] - 7s 271ms/step - loss: 1.1618 - accuracy: 0.6185\n",
            "Epoch 10/10\n",
            "25/25 [==============================] - 7s 271ms/step - loss: 1.1903 - accuracy: 0.6112\n"
          ],
          "name": "stdout"
        }
      ]
    },
    {
      "cell_type": "markdown",
      "metadata": {
        "id": "0PksUyh9XmJu"
      },
      "source": [
        "This section of the code, we use the pretrained network on the MNIST dataset\n"
      ]
    },
    {
      "cell_type": "code",
      "metadata": {
        "id": "GMdJbx4VXlJW"
      },
      "source": [
        "import tensorflow as tf\n",
        "import keras\n",
        "import numpy as np\n",
        "\n",
        "import os\n",
        "import matplotlib.pyplot as plt\n",
        "from tensorflow.keras import layers\n",
        "from tensorflow.keras import datasets\n",
        "from keras.preprocessing.image import ImageDataGenerator\n",
        "mnist=tf.keras.datasets.mnist"
      ],
      "execution_count": null,
      "outputs": []
    },
    {
      "cell_type": "markdown",
      "metadata": {
        "id": "UWvQrgs_0YzA"
      },
      "source": [
        "This is the standard train and test split for the mnist dataset with their respective labels.\n",
        "\n",
        "We have directly loaded the mnist dataset in the colab and trained it."
      ]
    },
    {
      "cell_type": "code",
      "metadata": {
        "id": "7ADnM8k6ZSeH"
      },
      "source": [
        "(x_train,y_train),(x_test,y_test)=mnist.load_data()\n"
      ],
      "execution_count": null,
      "outputs": []
    },
    {
      "cell_type": "code",
      "metadata": {
        "colab": {
          "base_uri": "https://localhost:8080/",
          "height": 282
        },
        "id": "ZScT-9j7ZdlL",
        "outputId": "868bb2c5-9d11-48b7-fac2-78b4b528de01"
      },
      "source": [
        "plt.imshow(x_test[0],cmap='gray')"
      ],
      "execution_count": null,
      "outputs": [
        {
          "output_type": "execute_result",
          "data": {
            "text/plain": [
              "<matplotlib.image.AxesImage at 0x7fc107453ed0>"
            ]
          },
          "metadata": {
            "tags": []
          },
          "execution_count": 62
        },
        {
          "output_type": "display_data",
          "data": {
            "image/png": "[encoded data removed]",
            "text/plain": [
              "<Figure size 432x288 with 1 Axes>"
            ]
          },
          "metadata": {
            "tags": [],
            "needs_background": "light"
          }
        }
      ]
    },
    {
      "cell_type": "code",
      "metadata": {
        "colab": {
          "base_uri": "https://localhost:8080/"
        },
        "id": "z74-BKv5w-RY",
        "outputId": "89f3e73c-7db0-46c9-9011-b8ca4d046af5"
      },
      "source": [
        " x_train= x_train.reshape(x_train.shape[0], 28, 28, 1)\n",
        "x_train = x_train.astype('float32')\n",
        "x_train/=255\n",
        "x_test = x_test.reshape(x_test.shape[0],28,28,1)\n",
        "x_test = x_test.astype('float32')\n",
        "x_test/=255\n",
        "print(x_train.shape)\n",
        "print(x_test.shape)\n",
        "\n",
        "\n"
      ],
      "execution_count": null,
      "outputs": [
        {
          "output_type": "stream",
          "text": [
            "(60000, 28, 28, 1)\n",
            "(10000, 28, 28, 1)\n"
          ],
          "name": "stdout"
        }
      ]
    },
    {
      "cell_type": "markdown",
      "metadata": {
        "id": "mx9pObZ_0449"
      },
      "source": [
        "Since we are using the same architecture for the MNIST dataset to identify the difference (of same model using different datasets)."
      ]
    },
    {
      "cell_type": "code",
      "metadata": {
        "colab": {
          "base_uri": "https://localhost:8080/"
        },
        "id": "vAJnADyYZi_1",
        "outputId": "f94f28c9-ee2c-4e6f-d86b-f99d785a4272"
      },
      "source": [
        "model = tf.keras.Sequential([\n",
        "  \n",
        "  layers.Conv2D(filters=32,padding=\"same\",kernel_size=3,activation='relu',input_shape=[28,28,1]),\n",
        "  layers.MaxPooling2D(pool_size=(2,2),strides=2),\n",
        "  layers.Conv2D(filters=32,padding=\"same\",kernel_size=3,activation='relu'),\n",
        "  layers.MaxPooling2D(pool_size=(2,2),strides=2),\n",
        "  layers.Conv2D(filters=64,padding=\"same\",kernel_size=3,activation='relu'),\n",
        "  layers.MaxPooling2D(pool_size=(2,2),strides=2),\n",
        "\n",
        "  layers.Flatten(),\n",
        "  layers.Dense(units=128, activation='relu'),\n",
        "  layers.Dense(units=10, activation='softmax'),\n",
        "  \n",
        "])\n",
        "model.summary()"
      ],
      "execution_count": null,
      "outputs": [
        {
          "output_type": "stream",
          "text": [
            "Model: \"sequential_9\"\n",
            "_________________________________________________________________\n",
            "Layer (type)                 Output Shape              Param #   \n",
            "=================================================================\n",
            "conv2d_27 (Conv2D)           (None, 28, 28, 32)        320       \n",
            "_________________________________________________________________\n",
            "max_pooling2d_27 (MaxPooling (None, 14, 14, 32)        0         \n",
            "_________________________________________________________________\n",
            "conv2d_28 (Conv2D)           (None, 14, 14, 32)        9248      \n",
            "_________________________________________________________________\n",
            "max_pooling2d_28 (MaxPooling (None, 7, 7, 32)          0         \n",
            "_________________________________________________________________\n",
            "conv2d_29 (Conv2D)           (None, 7, 7, 64)          18496     \n",
            "_________________________________________________________________\n",
            "max_pooling2d_29 (MaxPooling (None, 3, 3, 64)          0         \n",
            "_________________________________________________________________\n",
            "flatten_9 (Flatten)          (None, 576)               0         \n",
            "_________________________________________________________________\n",
            "dense_18 (Dense)             (None, 128)               73856     \n",
            "_________________________________________________________________\n",
            "dense_19 (Dense)             (None, 10)                1290      \n",
            "=================================================================\n",
            "Total params: 103,210\n",
            "Trainable params: 103,210\n",
            "Non-trainable params: 0\n",
            "_________________________________________________________________\n"
          ],
          "name": "stdout"
        }
      ]
    },
    {
      "cell_type": "code",
      "metadata": {
        "id": "cE3bR5Ziffpl"
      },
      "source": [
        "model.compile(optimizer='adam',\n",
        "              loss=tf.keras.losses.sparse_categorical_crossentropy,\n",
        "              metrics=['accuracy'])"
      ],
      "execution_count": null,
      "outputs": []
    },
    {
      "cell_type": "code",
      "metadata": {
        "colab": {
          "base_uri": "https://localhost:8080/"
        },
        "id": "gpYmC8qEmgHo",
        "outputId": "c58b289d-05e3-4380-d9e1-0a21a7ef64eb"
      },
      "source": [
        "epochs=10\n",
        "history = model.fit(x_train,y_train,epochs=epochs)"
      ],
      "execution_count": null,
      "outputs": [
        {
          "output_type": "stream",
          "text": [
            "Epoch 1/10\n",
            "1875/1875 [==============================] - 38s 3ms/step - loss: 0.3599 - accuracy: 0.8865\n",
            "Epoch 2/10\n",
            "1875/1875 [==============================] - 5s 3ms/step - loss: 0.0496 - accuracy: 0.9849\n",
            "Epoch 3/10\n",
            "1875/1875 [==============================] - 5s 3ms/step - loss: 0.0320 - accuracy: 0.9896\n",
            "Epoch 4/10\n",
            "1875/1875 [==============================] - 5s 3ms/step - loss: 0.0254 - accuracy: 0.9919\n",
            "Epoch 5/10\n",
            "1875/1875 [==============================] - 5s 3ms/step - loss: 0.0190 - accuracy: 0.9942\n",
            "Epoch 6/10\n",
            "1875/1875 [==============================] - 5s 3ms/step - loss: 0.0165 - accuracy: 0.9951\n",
            "Epoch 7/10\n",
            "1875/1875 [==============================] - 5s 3ms/step - loss: 0.0115 - accuracy: 0.9962\n",
            "Epoch 8/10\n",
            "1875/1875 [==============================] - 5s 3ms/step - loss: 0.0129 - accuracy: 0.9955\n",
            "Epoch 9/10\n",
            "1875/1875 [==============================] - 5s 3ms/step - loss: 0.0095 - accuracy: 0.9973\n",
            "Epoch 10/10\n",
            "1875/1875 [==============================] - 5s 3ms/step - loss: 0.0084 - accuracy: 0.9974\n"
          ],
          "name": "stdout"
        }
      ]
    },
    {
      "cell_type": "markdown",
      "metadata": {
        "id": "KrQSUlgx3k0B"
      },
      "source": [
        "                                                               Comparison\n",
        "  Model1:\n",
        "  The original dataset used the images(1200*900)\n",
        "  the dataset was not refined or preprocessed,\n",
        "  due to which it took longer time for it to train and the accuracy is also low.\n",
        "\n",
        "  Model2:\n",
        "  MNIST is a refined dataset(28*28)\n",
        "  due to which it is easier to train.\n",
        "The convergence was also low and the accuracy was very high as compared to the Model1 for the same number of epochs."
      ]
    }
  ]
}