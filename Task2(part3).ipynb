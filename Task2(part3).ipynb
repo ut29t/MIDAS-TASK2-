{
  "nbformat": 4,
  "nbformat_minor": 0,
  "metadata": {
    "accelerator": "GPU",
    "colab": {
      "name": "Task2(part3).ipynb",
      "provenance": [],
      "collapsed_sections": []
    },
    "kernelspec": {
      "display_name": "Python 3",
      "name": "python3"
    },
    "language_info": {
      "name": "python"
    }
  },
  "cells": [
    {
      "cell_type": "code",
      "metadata": {
        "id": "e7G4799cGg9r"
      },
      "source": [
        "import numpy as np\n",
        "import keras\n",
        "import matplotlib.pyplot as plt\n",
        "import tensorflow as tf\n",
        "from tensorflow.keras import layers\n",
        "from keras.preprocessing.image import ImageDataGenerator"
      ],
      "execution_count": null,
      "outputs": []
    },
    {
      "cell_type": "code",
      "metadata": {
        "colab": {
          "base_uri": "https://localhost:8080/"
        },
        "id": "m3c2Bf8auJAa",
        "outputId": "39134697-7ac0-4d1d-d20a-f908915bb85a"
      },
      "source": [
        "mnist=tf.keras.datasets.mnist\n",
        "(x_train,y_train),(x_test,y_test)=mnist.load_data()"
      ],
      "execution_count": null,
      "outputs": [
        {
          "output_type": "stream",
          "text": [
            "Downloading data from https://storage.googleapis.com/tensorflow/tf-keras-datasets/mnist.npz\n",
            "11493376/11490434 [==============================] - 0s 0us/step\n"
          ],
          "name": "stdout"
        }
      ]
    },
    {
      "cell_type": "code",
      "metadata": {
        "colab": {
          "base_uri": "https://localhost:8080/"
        },
        "id": "YpZBFBrSvwlG",
        "outputId": "3e8c5b2d-e488-45b1-e4b1-f823a103a6fe"
      },
      "source": [
        "\n",
        "x_test = x_test.reshape(x_test.shape[0],28,28,1)\n",
        "x_test = x_test.astype('float32')\n",
        "x_test/=255\n",
        "print(x_test.shape)\n",
        "\n"
      ],
      "execution_count": null,
      "outputs": [
        {
          "output_type": "stream",
          "text": [
            "(10000, 28, 28, 1)\n"
          ],
          "name": "stdout"
        }
      ]
    },
    {
      "cell_type": "code",
      "metadata": {
        "id": "PhpAk2PnYiHm",
        "colab": {
          "base_uri": "https://localhost:8080/"
        },
        "outputId": "50b53625-dcf5-4ae1-ace3-e11aab7a8a0b"
      },
      "source": [
        "from google.colab import drive\n",
        "drive.mount('/content/drive')\n",
        "\n",
        "train_data='/content/drive/MyDrive/MIDAS2'\n",
        "\n",
        "\n",
        "train_gen=ImageDataGenerator(rescale=1./255, rotation_range=0.3, shear_range=0.3, zoom_range=0.3,\n",
        "                             horizontal_flip=True, vertical_flip=True)\n",
        "\n",
        "train_generator=train_gen.flow_from_directory(train_data,color_mode='grayscale',target_size=(28,28),\n",
        "                                              batch_size=64,class_mode='categorical',shuffle=True)"
      ],
      "execution_count": null,
      "outputs": [
        {
          "output_type": "stream",
          "text": [
            "Go to this URL in a browser: https://accounts.google.com/o/oauth2/auth?client_id=947318989803-6bn6qk8qdgf4n4g3pfee6491hc0brc4i.apps.googleusercontent.com&redirect_uri=urn%3aietf%3awg%3aoauth%3a2.0%3aoob&scope=email%20https%3a%2f%2fwww.googleapis.com%2fauth%2fdocs.test%20https%3a%2f%2fwww.googleapis.com%2fauth%2fdrive%20https%3a%2f%2fwww.googleapis.com%2fauth%2fdrive.photos.readonly%20https%3a%2f%2fwww.googleapis.com%2fauth%2fpeopleapi.readonly%20https%3a%2f%2fwww.googleapis.com%2fauth%2fdrive.activity.readonly%20https%3a%2f%2fwww.googleapis.com%2fauth%2fexperimentsandconfigs%20https%3a%2f%2fwww.googleapis.com%2fauth%2fphotos.native&response_type=code\n",
            "\n",
            "Enter your authorization code:\n",
            "4/1AY0e-g5vb2AhnmPWzAStDcOgNaqEwhmYygYx9oh8B6MnMw0ZXTI-I9TlhzQ\n",
            "Mounted at /content/drive\n",
            "Found 48711 images belonging to 10 classes.\n"
          ],
          "name": "stdout"
        }
      ]
    },
    {
      "cell_type": "code",
      "metadata": {
        "colab": {
          "base_uri": "https://localhost:8080/"
        },
        "id": "PxMdaoo8iFpA",
        "outputId": "7e611742-9613-4e1e-865c-469ac75492a0"
      },
      "source": [
        "model = tf.keras.Sequential([\n",
        "  \n",
        "  layers.Conv2D(filters=32,padding=\"same\",kernel_size=3,activation='relu',input_shape=[28,28,1]),\n",
        "  layers.MaxPooling2D(pool_size=(2,2),strides=2),\n",
        "  layers.Conv2D(filters=32,padding=\"same\",kernel_size=3,activation='relu'),\n",
        "  layers.MaxPooling2D(pool_size=(2,2),strides=2),\n",
        "  layers.Conv2D(filters=64,padding=\"same\",kernel_size=3,activation='relu'),\n",
        "  layers.MaxPooling2D(pool_size=(2,2),strides=2),\n",
        "\n",
        "  layers.Flatten(),\n",
        "  layers.Dense(units=128, activation='relu'),\n",
        "  layers.Dense(units=10, activation='softmax'),\n",
        "  \n",
        "])\n",
        "model.summary()"
      ],
      "execution_count": null,
      "outputs": [
        {
          "output_type": "stream",
          "text": [
            "Model: \"sequential\"\n",
            "_________________________________________________________________\n",
            "Layer (type)                 Output Shape              Param #   \n",
            "=================================================================\n",
            "conv2d (Conv2D)              (None, 28, 28, 32)        320       \n",
            "_________________________________________________________________\n",
            "max_pooling2d (MaxPooling2D) (None, 14, 14, 32)        0         \n",
            "_________________________________________________________________\n",
            "conv2d_1 (Conv2D)            (None, 14, 14, 32)        9248      \n",
            "_________________________________________________________________\n",
            "max_pooling2d_1 (MaxPooling2 (None, 7, 7, 32)          0         \n",
            "_________________________________________________________________\n",
            "conv2d_2 (Conv2D)            (None, 7, 7, 64)          18496     \n",
            "_________________________________________________________________\n",
            "max_pooling2d_2 (MaxPooling2 (None, 3, 3, 64)          0         \n",
            "_________________________________________________________________\n",
            "flatten (Flatten)            (None, 576)               0         \n",
            "_________________________________________________________________\n",
            "dense (Dense)                (None, 128)               73856     \n",
            "_________________________________________________________________\n",
            "dense_1 (Dense)              (None, 10)                1290      \n",
            "=================================================================\n",
            "Total params: 103,210\n",
            "Trainable params: 103,210\n",
            "Non-trainable params: 0\n",
            "_________________________________________________________________\n"
          ],
          "name": "stdout"
        }
      ]
    },
    {
      "cell_type": "code",
      "metadata": {
        "id": "p-yCrTzUiS0T"
      },
      "source": [
        "model.compile(optimizer='adam',\n",
        "              loss=tf.keras.losses.categorical_crossentropy,\n",
        "              metrics=['accuracy'])"
      ],
      "execution_count": null,
      "outputs": []
    },
    {
      "cell_type": "code",
      "metadata": {
        "id": "EFH9KVoDiT49",
        "colab": {
          "base_uri": "https://localhost:8080/"
        },
        "outputId": "8881aa1c-c382-4858-f96f-f4d4135570c7"
      },
      "source": [
        "epochs=10\n",
        "history = model.fit(train_generator,epochs=epochs)"
      ],
      "execution_count": null,
      "outputs": [
        {
          "output_type": "stream",
          "text": [
            "Epoch 1/10\n",
            "762/762 [==============================] - 19265s 25s/step - loss: 2.2393 - accuracy: 0.1282\n",
            "Epoch 2/10\n",
            "762/762 [==============================] - 105s 138ms/step - loss: 2.2284 - accuracy: 0.1340\n",
            "Epoch 3/10\n",
            "762/762 [==============================] - 103s 135ms/step - loss: 2.2180 - accuracy: 0.1346\n",
            "Epoch 4/10\n",
            "762/762 [==============================] - 104s 136ms/step - loss: 2.2071 - accuracy: 0.1417\n",
            "Epoch 5/10\n",
            "762/762 [==============================] - 104s 137ms/step - loss: 2.2014 - accuracy: 0.1380\n",
            "Epoch 6/10\n",
            "762/762 [==============================] - 104s 137ms/step - loss: 2.1912 - accuracy: 0.1382\n",
            "Epoch 7/10\n",
            "762/762 [==============================] - 103s 135ms/step - loss: 2.1864 - accuracy: 0.1405\n",
            "Epoch 8/10\n",
            "762/762 [==============================] - 104s 136ms/step - loss: 2.1821 - accuracy: 0.1437\n",
            "Epoch 9/10\n",
            "762/762 [==============================] - 106s 139ms/step - loss: 2.1756 - accuracy: 0.1393\n",
            "Epoch 10/10\n",
            "762/762 [==============================] - 107s 140ms/step - loss: 2.1774 - accuracy: 0.1420\n"
          ],
          "name": "stdout"
        }
      ]
    },
    {
      "cell_type": "markdown",
      "metadata": {
        "id": "T8eSfRuTJowN"
      },
      "source": [
        "Conclusion: This dataset given contained about 60,000 images, the model did  not provide high accuracy.\n",
        "The accuracy might improve if we increase the number of epochs\n",
        "The data set was  huge it took large time  to train, other changes in the architecture and preprocessing might help improving the accuracy of the model."
      ]
    }
  ]
}